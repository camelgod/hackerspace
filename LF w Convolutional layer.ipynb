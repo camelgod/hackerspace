{
 "cells": [
  {
   "cell_type": "code",
   "execution_count": null,
   "metadata": {},
   "outputs": [],
   "source": [
    "# Numpy for matrix operations, like MATLAB\n",
    "import numpy as np\n",
    "\n",
    "# naming the tensorflow import tf is standard practice\n",
    "import tensorflow as tf\n",
    "\n",
    "# We'll use the machine learning library sklearn to split our labeled data in two:\n",
    "# one for training and one to verify our algorithm can predict labels of data it hasn't \"seen\"\n",
    "from sklearn.model_selection import train_test_split\n",
    "\n",
    "tf.logging.set_verbosity(tf.logging.INFO)"
   ]
  },
  {
   "cell_type": "markdown",
   "metadata": {},
   "source": [
    "## Data preprocessing"
   ]
  },
  {
   "cell_type": "code",
   "execution_count": null,
   "metadata": {},
   "outputs": [],
   "source": [
    "# pandas lets us conveniently load data from json into a table-like format called a DataFrame\n",
    "import pandas as pd\n",
    "path = \"data/\"\n",
    "train = pd.read_json(path+\"train.json\")\n",
    "test = pd.read_json(path+\"test.json\")"
   ]
  },
  {
   "cell_type": "code",
   "execution_count": null,
   "metadata": {
    "scrolled": true
   },
   "outputs": [],
   "source": [
    "# Extract the image data as numpy arrays, a format tensorflow can use\n",
    "Xv1 = np.array([np.array(band).astype(np.float32) for band in train[\"band_1\"]])\n",
    "Xv2 = np.array([np.array(band).astype(np.float32) for band in train[\"band_2\"]])\n",
    "print(\"Xv1/2 shape: \" + str(Xv1.shape))\n",
    "\n",
    "# Put the predictions into a numpy array\n",
    "vals = train.is_iceberg.values\n",
    "Yv = np.asarray(vals, dtype=np.int32)\n",
    "\n",
    "# Concatenate the two image channels into a single numpy array of three dimensions (a tensor!)\n",
    "Xv_double = np.stack([Xv1,Xv2], axis = 2)\n",
    "print(\"Xv_double shape: \" + str(Xv_double.shape))\n",
    "\n",
    "# Split the training data and labels in two separate parts\n",
    "X_train, X_valid, y_train, y_valid = train_test_split(Xv_double, Yv, random_state=1, train_size=0.75, test_size=0.25)\n",
    "\n",
    "print(\"Shape of training data: \" + str(X_train.shape))\n",
    "print(\"Shape of training labels : \" + str(y_train.shape))\n",
    "print(\"Shape of validation data : \" + str(X_valid.shape))\n",
    "print(\"Shape of validation labels : \" + str(y_valid.shape))"
   ]
  },
  {
   "cell_type": "markdown",
   "metadata": {},
   "source": [
    "## Defining the tensorflow input and model functions"
   ]
  },
  {
   "cell_type": "code",
   "execution_count": null,
   "metadata": {},
   "outputs": [],
   "source": [
    "# Training data input function\n",
    "train_input_fn = tf.estimator.inputs.numpy_input_fn(\n",
    "    x={\"x\": X_train},\n",
    "    y=y_train,\n",
    "    batch_size=100,\n",
    "    num_epochs=None,\n",
    "    shuffle=True)"
   ]
  },
  {
   "cell_type": "code",
   "execution_count": null,
   "metadata": {},
   "outputs": [],
   "source": [
    "# Model function, where the magic happens\n",
    "def model_fn(features, labels, mode):\n",
    "    \"\"\"\n",
    "    Model function for CNN.\n",
    "    Features and labels correspond to x and y from the train_input_fn we created above\n",
    "    Mode decides whether to train the model, evaluate the accuracy of the model on labeled data, \n",
    "    or predict the category of unlabeled images\n",
    "    \n",
    "    \"\"\"\n",
    "    \n",
    "    # Input Layer:\n",
    "    # Store the image array as a tensorflow tensor.\n",
    "    # tf.reshape will take our input, which is of dimensions [batch_size, vector_length = 75*75, num_channels = 2]\n",
    "    input_layer = tf.reshape(features[\"x\"], [-1, 75, 75, 2])\n",
    " \n",
    "    # Add a convolutional layer of 32 [3,3] convolutions\n",
    "    conv1 = tf.layers.conv2d(\n",
    "    inputs = input_layer,\n",
    "    filters=32,\n",
    "    kernel_size=[3, 3],\n",
    "    padding=\"same\",\n",
    "    activation=tf.nn.relu)\n",
    "    \n",
    "    # to use a dense (fully connected) layer, we need to flatten our inputs to vectors\n",
    "    # We'll need to change the dimensions of flat_input if we add new layers above this line\n",
    "    flat_input = tf.reshape(conv1, [-1, 75*75*32])\n",
    "\n",
    "    # Dense Layer #1\n",
    "    dense1 = tf.layers.dense(\n",
    "        inputs=flat_input,\n",
    "        units = 100,\n",
    "        activation=tf.nn.relu)\n",
    "    # Logits Layer\n",
    "    \n",
    "    # The logits layer, aka the output layer, outputs two values (one for ships, one for icebergs)\n",
    "    logits = tf.layers.dense(inputs=dense1, units=2)\n",
    "\n",
    "    \n",
    "    predictions = {\n",
    "        # Generate predictions (to be used in PREDICT and EVAL mode)\n",
    "        \"classes\": tf.argmax(input=logits, axis=1),\n",
    "        # Add `softmax_tensor` to the graph. It is used for PREDICT and by the\n",
    "        # `logging_hook`.\n",
    "        \"probabilities\": tf.nn.softmax(logits, name=\"softmax_tensor\")\n",
    "    }\n",
    "    if mode == tf.estimator.ModeKeys.PREDICT:\n",
    "        return tf.estimator.EstimatorSpec(mode=mode, predictions=predictions)\n",
    "\n",
    "    # Calculate Loss (for both TRAIN and EVAL modes)\n",
    "    loss = tf.losses.sparse_softmax_cross_entropy(labels=labels, logits=logits)\n",
    "\n",
    "    # Configure the Training Op (for TRAIN mode)\n",
    "    if mode == tf.estimator.ModeKeys.TRAIN:\n",
    "        optimizer = tf.train.GradientDescentOptimizer(learning_rate=0.001)\n",
    "        train_op = optimizer.minimize(\n",
    "        loss=loss,\n",
    "        global_step=tf.train.get_global_step())\n",
    "        return tf.estimator.EstimatorSpec(mode=mode, loss=loss, train_op=train_op)\n",
    "    \n",
    "\n",
    "    # Add evaluation metrics (for EVAL mode)\n",
    "    eval_metric_ops = {\n",
    "    \"accuracy\": tf.metrics.accuracy(\n",
    "    labels=labels, predictions=predictions[\"classes\"])}\n",
    "    return tf.estimator.EstimatorSpec(\n",
    "    mode=mode, loss=loss, eval_metric_ops=eval_metric_ops)"
   ]
  },
  {
   "cell_type": "markdown",
   "metadata": {},
   "source": [
    "## Training the classifier on input data"
   ]
  },
  {
   "cell_type": "code",
   "execution_count": null,
   "metadata": {
    "scrolled": true
   },
   "outputs": [],
   "source": [
    "# Create the estimator object.\n",
    "# The model function we created above, the model_dir lets tensorflow know where to store our neural network to disk.\n",
    "# Note that when changing the architecture we'll need to change the model_dir\n",
    "statoil_classifier = tf.estimator.Estimator(\n",
    "    model_fn=model_fn, model_dir=\"/tmp/00003\")"
   ]
  },
  {
   "cell_type": "code",
   "execution_count": null,
   "metadata": {},
   "outputs": [],
   "source": [
    "# Train the classifier using the input function\n",
    "# Steps denotes the number of batches to train on. \n",
    "# The total number of images 'looked' at will be steps * batch_size (which is given in the input function)\n",
    "statoil_classifier.train(\n",
    "    input_fn=train_input_fn,\n",
    "    steps=160)"
   ]
  },
  {
   "cell_type": "markdown",
   "metadata": {},
   "source": [
    "## Evaluating our model locally"
   ]
  },
  {
   "cell_type": "code",
   "execution_count": null,
   "metadata": {},
   "outputs": [],
   "source": [
    "# Evaluate the model and print results\n",
    "valid_input_fn = tf.estimator.inputs.numpy_input_fn(\n",
    "  x={\"x\": X_valid},\n",
    "  y=y_valid,\n",
    "  num_epochs=1,\n",
    "  shuffle=False)\n",
    "valid_results = statoil_classifier.evaluate(input_fn=valid_input_fn)\n",
    "print(valid_results)"
   ]
  },
  {
   "cell_type": "markdown",
   "metadata": {},
   "source": [
    "## Predicting on the unknown data and creating submission file"
   ]
  },
  {
   "cell_type": "code",
   "execution_count": null,
   "metadata": {},
   "outputs": [],
   "source": [
    "Xt1 = np.array([np.array(band).astype(np.float32) for band in test[\"band_1\"]])\n",
    "Xt2 = np.array([np.array(band).astype(np.float32) for band in test[\"band_2\"]])\n",
    "\n",
    "# Concatenate the two image channels into a single numpy array\n",
    "Xd_test = np.stack([Xt1,Xt2], axis = 1)\n",
    "print(\"Xd_test: \" + str(Xd_test.shape))"
   ]
  },
  {
   "cell_type": "code",
   "execution_count": null,
   "metadata": {},
   "outputs": [],
   "source": [
    "# Create the input function with the test data\n",
    "test_input_fn = tf.estimator.inputs.numpy_input_fn(\n",
    "x={\"x\": Xd_test},\n",
    "shuffle=False)\n",
    "\n",
    "# Use the classifier to predict if the image is an iceberg or a ship\n",
    "pred = statoil_classifier.predict(input_fn=test_input_fn)"
   ]
  },
  {
   "cell_type": "code",
   "execution_count": null,
   "metadata": {},
   "outputs": [],
   "source": [
    "# predict returns a 'generator', store it as a list for convenience, and have a look at the data\n",
    "pred_list = list(pred)\n",
    "pred_list[:10]"
   ]
  },
  {
   "cell_type": "code",
   "execution_count": null,
   "metadata": {},
   "outputs": [],
   "source": [
    "# Get the IDs needed for the submissions\n",
    "id = test['id'].tolist()\n",
    "# Get the 'probability' assigned that the image is an iceberg\n",
    "is_iceberg = [i['probabilities'][1] for i in pred_list]"
   ]
  },
  {
   "cell_type": "code",
   "execution_count": null,
   "metadata": {},
   "outputs": [],
   "source": [
    "# with zip we can add together two lists of the same length\n",
    "ziplist = list(zip(id,is_iceberg))\n",
    "res = []\n",
    "# Concatenate the two lists to a single list of the form 'id,probability_iceberg'\n",
    "for pair in ziplist:\n",
    "    res.append(pair[0]+','+str(pair[1]))"
   ]
  },
  {
   "cell_type": "code",
   "execution_count": null,
   "metadata": {},
   "outputs": [],
   "source": [
    "# write the result to a .csv file in the same folder as this notebook\n",
    "with open('submission.csv', 'w') as f:\n",
    "    f.write(\"id,is_iceberg\\n\")\n",
    "    for item in res:\n",
    "      f.write(\"%s\\n\" % item)"
   ]
  },
  {
   "cell_type": "code",
   "execution_count": null,
   "metadata": {},
   "outputs": [],
   "source": []
  }
 ],
 "metadata": {
  "kernelspec": {
   "display_name": "Python 3",
   "language": "python",
   "name": "python3"
  },
  "language_info": {
   "codemirror_mode": {
    "name": "ipython",
    "version": 3
   },
   "file_extension": ".py",
   "mimetype": "text/x-python",
   "name": "python",
   "nbconvert_exporter": "python",
   "pygments_lexer": "ipython3",
   "version": "3.6.5"
  }
 },
 "nbformat": 4,
 "nbformat_minor": 2
}
