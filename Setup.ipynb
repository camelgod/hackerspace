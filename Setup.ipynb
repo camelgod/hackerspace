{
 "cells": [
  {
   "cell_type": "markdown",
   "metadata": {},
   "source": [
    "## Setup\n",
    "\n",
    "1 - git/bash: https://git-scm.com/download/win\n",
    "\n",
    "2 - open git bash and clone repository:\n",
    ">git clone https://github.com/hakontro/slackbot.git (alternatively just download the files)\n",
    "\n",
    "3 - Python 3.5 or 3.6 x64 bit: https://www.python.org/downloads/release/python-365/\n",
    "On windows, select 'add to windows path' in the installer\n",
    "\n",
    "4 - Python packages:\n",
    "\n",
    ">pip install tensorflow\n",
    "\n",
    ">pip install plotly\n",
    "\n",
    ">pip install pandas\n",
    "\n",
    ">pip install jupyter\n",
    "\n",
    ">pip install numpy\n",
    "\n",
    ">pip install sklearn\n",
    "\n",
    ">pip install scipy\n",
    "\n",
    "5 - If you have other python versions on your system:\n",
    "py -3.6 -m pip install _library_\n",
    "    \n",
    "6 - Create an account on Kaggle: https://www.kaggle.com\n",
    "\n",
    "7 - Accept the statoil competition and download the data: https://www.kaggle.com/c/statoil-iceberg-classifier-challenge/data\n",
    "\n",
    "8 - Extract data and move to /data under the directory where you downloaded the notebooks"
   ]
  },
  {
   "cell_type": "code",
   "execution_count": null,
   "metadata": {},
   "outputs": [],
   "source": []
  }
 ],
 "metadata": {
  "kernelspec": {
   "display_name": "Python 3",
   "language": "python",
   "name": "python3"
  },
  "language_info": {
   "codemirror_mode": {
    "name": "ipython",
    "version": 3
   },
   "file_extension": ".py",
   "mimetype": "text/x-python",
   "name": "python",
   "nbconvert_exporter": "python",
   "pygments_lexer": "ipython3",
   "version": "3.6.5"
  }
 },
 "nbformat": 4,
 "nbformat_minor": 2
}
